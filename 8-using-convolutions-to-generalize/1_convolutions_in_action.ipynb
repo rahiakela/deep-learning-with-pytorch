{
  "nbformat": 4,
  "nbformat_minor": 0,
  "metadata": {
    "colab": {
      "name": "1-convolutions-in-action.ipynb",
      "provenance": [],
      "toc_visible": true,
      "authorship_tag": "ABX9TyOHr9sQLVIY0yFL3jQsa0Hg",
      "include_colab_link": true
    },
    "kernelspec": {
      "name": "python3",
      "display_name": "Python 3"
    },
    "widgets": {
      "application/vnd.jupyter.widget-state+json": {
        "04b86ff7633a4cdb87819e389d72d6fb": {
          "model_module": "@jupyter-widgets/controls",
          "model_name": "HBoxModel",
          "state": {
            "_view_name": "HBoxView",
            "_dom_classes": [],
            "_model_name": "HBoxModel",
            "_view_module": "@jupyter-widgets/controls",
            "_model_module_version": "1.5.0",
            "_view_count": null,
            "_view_module_version": "1.5.0",
            "box_style": "",
            "layout": "IPY_MODEL_55597dfcb7a344589f3f2cc1c292c0a4",
            "_model_module": "@jupyter-widgets/controls",
            "children": [
              "IPY_MODEL_c966bba3be7b48ecb771d6a2e6c6aec5",
              "IPY_MODEL_d373d86962194917868bf21c5260e4fc"
            ]
          }
        },
        "55597dfcb7a344589f3f2cc1c292c0a4": {
          "model_module": "@jupyter-widgets/base",
          "model_name": "LayoutModel",
          "state": {
            "_view_name": "LayoutView",
            "grid_template_rows": null,
            "right": null,
            "justify_content": null,
            "_view_module": "@jupyter-widgets/base",
            "overflow": null,
            "_model_module_version": "1.2.0",
            "_view_count": null,
            "flex_flow": null,
            "width": null,
            "min_width": null,
            "border": null,
            "align_items": null,
            "bottom": null,
            "_model_module": "@jupyter-widgets/base",
            "top": null,
            "grid_column": null,
            "overflow_y": null,
            "overflow_x": null,
            "grid_auto_flow": null,
            "grid_area": null,
            "grid_template_columns": null,
            "flex": null,
            "_model_name": "LayoutModel",
            "justify_items": null,
            "grid_row": null,
            "max_height": null,
            "align_content": null,
            "visibility": null,
            "align_self": null,
            "height": null,
            "min_height": null,
            "padding": null,
            "grid_auto_rows": null,
            "grid_gap": null,
            "max_width": null,
            "order": null,
            "_view_module_version": "1.2.0",
            "grid_template_areas": null,
            "object_position": null,
            "object_fit": null,
            "grid_auto_columns": null,
            "margin": null,
            "display": null,
            "left": null
          }
        },
        "c966bba3be7b48ecb771d6a2e6c6aec5": {
          "model_module": "@jupyter-widgets/controls",
          "model_name": "FloatProgressModel",
          "state": {
            "_view_name": "ProgressView",
            "style": "IPY_MODEL_a0af49ed683749db8a3a5c099ed648f2",
            "_dom_classes": [],
            "description": "",
            "_model_name": "FloatProgressModel",
            "bar_style": "success",
            "max": 1,
            "_view_module": "@jupyter-widgets/controls",
            "_model_module_version": "1.5.0",
            "value": 1,
            "_view_count": null,
            "_view_module_version": "1.5.0",
            "orientation": "horizontal",
            "min": 0,
            "description_tooltip": null,
            "_model_module": "@jupyter-widgets/controls",
            "layout": "IPY_MODEL_35d99a3e4b4544e7af3c9a6c2fb275ca"
          }
        },
        "d373d86962194917868bf21c5260e4fc": {
          "model_module": "@jupyter-widgets/controls",
          "model_name": "HTMLModel",
          "state": {
            "_view_name": "HTMLView",
            "style": "IPY_MODEL_603ec4e81b53436bba955f7c5045aa36",
            "_dom_classes": [],
            "description": "",
            "_model_name": "HTMLModel",
            "placeholder": "​",
            "_view_module": "@jupyter-widgets/controls",
            "_model_module_version": "1.5.0",
            "value": " 170500096/? [00:09&lt;00:00, 18529718.63it/s]",
            "_view_count": null,
            "_view_module_version": "1.5.0",
            "description_tooltip": null,
            "_model_module": "@jupyter-widgets/controls",
            "layout": "IPY_MODEL_04332b662c994215a65b4a82d640187b"
          }
        },
        "a0af49ed683749db8a3a5c099ed648f2": {
          "model_module": "@jupyter-widgets/controls",
          "model_name": "ProgressStyleModel",
          "state": {
            "_view_name": "StyleView",
            "_model_name": "ProgressStyleModel",
            "description_width": "initial",
            "_view_module": "@jupyter-widgets/base",
            "_model_module_version": "1.5.0",
            "_view_count": null,
            "_view_module_version": "1.2.0",
            "bar_color": null,
            "_model_module": "@jupyter-widgets/controls"
          }
        },
        "35d99a3e4b4544e7af3c9a6c2fb275ca": {
          "model_module": "@jupyter-widgets/base",
          "model_name": "LayoutModel",
          "state": {
            "_view_name": "LayoutView",
            "grid_template_rows": null,
            "right": null,
            "justify_content": null,
            "_view_module": "@jupyter-widgets/base",
            "overflow": null,
            "_model_module_version": "1.2.0",
            "_view_count": null,
            "flex_flow": null,
            "width": null,
            "min_width": null,
            "border": null,
            "align_items": null,
            "bottom": null,
            "_model_module": "@jupyter-widgets/base",
            "top": null,
            "grid_column": null,
            "overflow_y": null,
            "overflow_x": null,
            "grid_auto_flow": null,
            "grid_area": null,
            "grid_template_columns": null,
            "flex": null,
            "_model_name": "LayoutModel",
            "justify_items": null,
            "grid_row": null,
            "max_height": null,
            "align_content": null,
            "visibility": null,
            "align_self": null,
            "height": null,
            "min_height": null,
            "padding": null,
            "grid_auto_rows": null,
            "grid_gap": null,
            "max_width": null,
            "order": null,
            "_view_module_version": "1.2.0",
            "grid_template_areas": null,
            "object_position": null,
            "object_fit": null,
            "grid_auto_columns": null,
            "margin": null,
            "display": null,
            "left": null
          }
        },
        "603ec4e81b53436bba955f7c5045aa36": {
          "model_module": "@jupyter-widgets/controls",
          "model_name": "DescriptionStyleModel",
          "state": {
            "_view_name": "StyleView",
            "_model_name": "DescriptionStyleModel",
            "description_width": "",
            "_view_module": "@jupyter-widgets/base",
            "_model_module_version": "1.5.0",
            "_view_count": null,
            "_view_module_version": "1.2.0",
            "_model_module": "@jupyter-widgets/controls"
          }
        },
        "04332b662c994215a65b4a82d640187b": {
          "model_module": "@jupyter-widgets/base",
          "model_name": "LayoutModel",
          "state": {
            "_view_name": "LayoutView",
            "grid_template_rows": null,
            "right": null,
            "justify_content": null,
            "_view_module": "@jupyter-widgets/base",
            "overflow": null,
            "_model_module_version": "1.2.0",
            "_view_count": null,
            "flex_flow": null,
            "width": null,
            "min_width": null,
            "border": null,
            "align_items": null,
            "bottom": null,
            "_model_module": "@jupyter-widgets/base",
            "top": null,
            "grid_column": null,
            "overflow_y": null,
            "overflow_x": null,
            "grid_auto_flow": null,
            "grid_area": null,
            "grid_template_columns": null,
            "flex": null,
            "_model_name": "LayoutModel",
            "justify_items": null,
            "grid_row": null,
            "max_height": null,
            "align_content": null,
            "visibility": null,
            "align_self": null,
            "height": null,
            "min_height": null,
            "padding": null,
            "grid_auto_rows": null,
            "grid_gap": null,
            "max_width": null,
            "order": null,
            "_view_module_version": "1.2.0",
            "grid_template_areas": null,
            "object_position": null,
            "object_fit": null,
            "grid_auto_columns": null,
            "margin": null,
            "display": null,
            "left": null
          }
        }
      }
    },
    "accelerator": "GPU"
  },
  "cells": [
    {
      "cell_type": "markdown",
      "metadata": {
        "id": "view-in-github",
        "colab_type": "text"
      },
      "source": [
        "<a href=\"https://colab.research.google.com/github/rahiakela/deep-learning-with-pytorch/blob/master/8-using-convolutions-to-generalize/1_convolutions_in_action.ipynb\" target=\"_parent\"><img src=\"https://colab.research.google.com/assets/colab-badge.svg\" alt=\"Open In Colab\"/></a>"
      ]
    },
    {
      "cell_type": "markdown",
      "metadata": {
        "id": "JD-pGnbRyH6s"
      },
      "source": [
        "# Using convolutions to generalize"
      ]
    },
    {
      "cell_type": "markdown",
      "metadata": {
        "id": "-QS-_bhIydI7"
      },
      "source": [
        "Due to the fully connected setup needed to detect the various possible translations of the bird or airplane in the image, we have both too many parameters (making it easier for the model to memorize the training set) and no position independence (making it harder to generalize). \r\n",
        "\r\n",
        "As we know, we could augment our training data by using a wide variety of recropped images to try to force generalization, but that won’t address the issue of having too many parameters.\r\n",
        "**There is a better way! It consists of replacing the dense, fully connected affine transformation in our neural network unit with a different linear operation: convolution.**\r\n"
      ]
    },
    {
      "cell_type": "markdown",
      "metadata": {
        "id": "tRKStm2QzDAv"
      },
      "source": [
        "## Setup"
      ]
    },
    {
      "cell_type": "code",
      "metadata": {
        "id": "-fRJTzpxzEj7"
      },
      "source": [
        "from matplotlib import pyplot as plt\r\n",
        "import numpy as np\r\n",
        "import collections\r\n",
        "import datetime\r\n",
        "\r\n",
        "import torch\r\n",
        "import torch.nn as nn\r\n",
        "import torch.nn.functional as F\r\n",
        "import torch.optim as optim\r\n",
        "from torchvision import datasets, transforms\r\n",
        "import torch.nn.functional as F\r\n",
        "\r\n",
        "torch.set_printoptions(edgeitems=2)\r\n",
        "torch.manual_seed(123)\r\n",
        "\r\n",
        "%matplotlib inline"
      ],
      "execution_count": 1,
      "outputs": []
    },
    {
      "cell_type": "code",
      "metadata": {
        "colab": {
          "base_uri": "https://localhost:8080/",
          "height": 84,
          "referenced_widgets": [
            "04b86ff7633a4cdb87819e389d72d6fb",
            "55597dfcb7a344589f3f2cc1c292c0a4",
            "c966bba3be7b48ecb771d6a2e6c6aec5",
            "d373d86962194917868bf21c5260e4fc",
            "a0af49ed683749db8a3a5c099ed648f2",
            "35d99a3e4b4544e7af3c9a6c2fb275ca",
            "603ec4e81b53436bba955f7c5045aa36",
            "04332b662c994215a65b4a82d640187b"
          ]
        },
        "id": "-T4StfdbzKPO",
        "outputId": "bc0cea3b-1207-49ce-d48a-ee4682b350fd"
      },
      "source": [
        "data_path = '../data-unversioned/p1ch6/'\r\n",
        "cifar10 = datasets.CIFAR10(\r\n",
        "    data_path, train=True, download=True,\r\n",
        "    transform=transforms.Compose([\r\n",
        "        transforms.ToTensor(),\r\n",
        "        transforms.Normalize((0.4915, 0.4823, 0.4468),\r\n",
        "                             (0.2470, 0.2435, 0.2616))\r\n",
        "    ]))"
      ],
      "execution_count": 2,
      "outputs": [
        {
          "output_type": "stream",
          "text": [
            "Downloading https://www.cs.toronto.edu/~kriz/cifar-10-python.tar.gz to ../data-unversioned/p1ch6/cifar-10-python.tar.gz\n"
          ],
          "name": "stdout"
        },
        {
          "output_type": "display_data",
          "data": {
            "application/vnd.jupyter.widget-view+json": {
              "model_id": "04b86ff7633a4cdb87819e389d72d6fb",
              "version_minor": 0,
              "version_major": 2
            },
            "text/plain": [
              "HBox(children=(FloatProgress(value=1.0, bar_style='info', max=1.0), HTML(value='')))"
            ]
          },
          "metadata": {
            "tags": []
          }
        },
        {
          "output_type": "stream",
          "text": [
            "Extracting ../data-unversioned/p1ch6/cifar-10-python.tar.gz to ../data-unversioned/p1ch6/\n"
          ],
          "name": "stdout"
        }
      ]
    },
    {
      "cell_type": "code",
      "metadata": {
        "colab": {
          "base_uri": "https://localhost:8080/"
        },
        "id": "3zOHe4ySzqB1",
        "outputId": "ef5a8f04-1c35-4b1a-85b7-61d948d21cbf"
      },
      "source": [
        "cifar10_val = datasets.CIFAR10(\r\n",
        "    data_path, train=False, download=True,\r\n",
        "    transform=transforms.Compose([\r\n",
        "        transforms.ToTensor(),\r\n",
        "        transforms.Normalize((0.4915, 0.4823, 0.4468),\r\n",
        "                             (0.2470, 0.2435, 0.2616))\r\n",
        "    ]))"
      ],
      "execution_count": 3,
      "outputs": [
        {
          "output_type": "stream",
          "text": [
            "Files already downloaded and verified\n"
          ],
          "name": "stdout"
        }
      ]
    },
    {
      "cell_type": "code",
      "metadata": {
        "id": "ASLMMCKzztlJ",
        "outputId": "eb85aaf6-2e34-444b-f778-eec18d2dd479",
        "colab": {
          "base_uri": "https://localhost:8080/"
        }
      },
      "source": [
        "label_map = {0: 0, 2: 1}\r\n",
        "class_names = ['airplane', 'bird']\r\n",
        "cifar2 = [(img, label_map[label]) for img, label in cifar10 if label in [0, 2]]\r\n",
        "cifar2_val = [(img, label_map[label]) for img, label in cifar10_val if label in [0, 2]]"
      ],
      "execution_count": 4,
      "outputs": [
        {
          "output_type": "stream",
          "text": [
            "\n"
          ],
          "name": "stdout"
        }
      ]
    },
    {
      "cell_type": "markdown",
      "metadata": {
        "id": "CfKQQ6X00TyU"
      },
      "source": [
        "## The case for convolutions"
      ]
    },
    {
      "cell_type": "markdown",
      "metadata": {
        "id": "p0-79ivp0UzG"
      },
      "source": [
        "We know that taking a 1D view of our input image and multiplying it by an\r\n",
        "n_output_features × n_input_features weight matrix, as is done in nn.Linear,\r\n",
        "means for each channel in the image, computing a weighted sum of all the pixels multiplied by a set of weights, one per output feature."
      ]
    },
    {
      "cell_type": "code",
      "metadata": {
        "id": "Qn5xF0Uhz2es"
      },
      "source": [
        "connected_model = nn.Sequential(\r\n",
        "            nn.Linear(3072, 1024),\r\n",
        "            nn.Tanh(),\r\n",
        "            nn.Linear(1024, 512),\r\n",
        "            nn.Tanh(),\r\n",
        "            nn.Linear(512, 128),\r\n",
        "            nn.Tanh(),\r\n",
        "            nn.Linear(128, 2))"
      ],
      "execution_count": 5,
      "outputs": []
    },
    {
      "cell_type": "code",
      "metadata": {
        "colab": {
          "base_uri": "https://localhost:8080/"
        },
        "id": "jh1F_nv30kBn",
        "outputId": "a2ac892d-f9d3-4886-e3b9-94b4c4c46276"
      },
      "source": [
        "numel_list = [p.numel()\r\n",
        "              for p in connected_model.parameters()\r\n",
        "              if p.requires_grad == True]\r\n",
        "sum(numel_list), numel_list"
      ],
      "execution_count": 6,
      "outputs": [
        {
          "output_type": "execute_result",
          "data": {
            "text/plain": [
              "(3737474, [3145728, 1024, 524288, 512, 65536, 128, 256, 2])"
            ]
          },
          "metadata": {
            "tags": []
          },
          "execution_count": 6
        }
      ]
    },
    {
      "cell_type": "code",
      "metadata": {
        "id": "rfUq-5Wg1Pyk"
      },
      "source": [
        "first_model = nn.Sequential(\r\n",
        "                nn.Linear(3072, 512),\r\n",
        "                nn.Tanh(),\r\n",
        "                nn.Linear(512, 2),\r\n",
        "                nn.LogSoftmax(dim=1))"
      ],
      "execution_count": 7,
      "outputs": []
    },
    {
      "cell_type": "code",
      "metadata": {
        "colab": {
          "base_uri": "https://localhost:8080/"
        },
        "id": "1ejlQD701TAj",
        "outputId": "a1745b7a-7503-41c2-e9bc-0e2989739ebb"
      },
      "source": [
        "numel_list = [p.numel() for p in first_model.parameters()]\r\n",
        "sum(numel_list), numel_list"
      ],
      "execution_count": 8,
      "outputs": [
        {
          "output_type": "execute_result",
          "data": {
            "text/plain": [
              "(1574402, [1572864, 512, 1024, 2])"
            ]
          },
          "metadata": {
            "tags": []
          },
          "execution_count": 8
        }
      ]
    },
    {
      "cell_type": "code",
      "metadata": {
        "colab": {
          "base_uri": "https://localhost:8080/"
        },
        "id": "CWhqZSQG1XOY",
        "outputId": "bded4192-ca9f-4f49-d24f-5c69f6bf5bce"
      },
      "source": [
        "linear = nn.Linear(3072, 1024)\r\n",
        "\r\n",
        "linear.weight.shape, linear.bias.shape"
      ],
      "execution_count": 9,
      "outputs": [
        {
          "output_type": "execute_result",
          "data": {
            "text/plain": [
              "(torch.Size([1024, 3072]), torch.Size([1024]))"
            ]
          },
          "metadata": {
            "tags": []
          },
          "execution_count": 9
        }
      ]
    },
    {
      "cell_type": "markdown",
      "metadata": {
        "id": "iSstZM7603UJ"
      },
      "source": [
        "In order to translate this intuition into mathematical form, we could compute the weighted sum of a pixel with its immediate neighbors, rather than with all other pixels in the image. This would be equivalent to building weight matrices, one per output feature and output pixel location, in which all weights beyond a certain distance from a center pixel are zero. This will still be a weighted sum: that is, a linear operation."
      ]
    },
    {
      "cell_type": "markdown",
      "metadata": {
        "id": "HQENTdNY1a74"
      },
      "source": [
        "## What convolutions do"
      ]
    },
    {
      "cell_type": "markdown",
      "metadata": {
        "id": "cvVc6eWe1eZB"
      },
      "source": [
        "We identified one more desired property earlier: we would like these localized patterns to have an effect on the output regardless of their location in the image: that is, to be translation invariant.\r\n",
        "\r\n",
        "**Fortunately, there is a readily available, local, translation-invariant linear operation on the image: a convolution.**\r\n",
        "\r\n",
        "**Convolution, or more precisely, discrete convolution is defined for a 2D image as the scalar product of a weight matrix, the kernel, with every neighborhood in the input.**\r\n",
        "\r\n",
        "Consider a 3 × 3 kernel (in deep learning, we typically use small kernels; we’ll see why later on) as a 2D tensor.\r\n",
        "\r\n",
        "```python\r\n",
        "weight = torch.tensor([\r\n",
        "  [w00, w01, w02],\r\n",
        "  [w10, w11, w12],\r\n",
        "  [w20, w21, w22]\r\n",
        "])\r\n",
        "```\r\n",
        "\r\n",
        "and a 1-channel, MxN image:\r\n",
        "\r\n",
        "```python\r\n",
        "image = torch.tensor([\r\n",
        "  [i00, i01, i02, i03, ..., i0N],\r\n",
        "  [i10, i11, i12, i13, ..., i1N],\r\n",
        "  [i20, i21, i22, i23, ..., i2N],\r\n",
        "  [i30, i31, i32, i33, ..., i3N],\r\n",
        "  ...\r\n",
        "  [iM0, iM1m iM2, iM3, ..., iMN]\r\n",
        "])\r\n",
        "```\r\n",
        "\r\n",
        "We can compute an element of the output image (without bias) as follows:\r\n",
        "\r\n",
        "```python\r\n",
        "o11 = i11 * w00 + i12 * w01 + i22 * w02 +\r\n",
        "      i21 * w10 + i22 * w11 + i23 * w12 +\r\n",
        "      i31 * w20 + i32 * w21 + i33 * w22\r\n",
        "```\r\n",
        "\r\n",
        "That is, we “translate” the kernel on the i11 location of the input image, and we multiply each weight by the value of the input image at the corresponding location. Thus, the output image is created by translating the kernel on all input locations and performing the weighted sum. For a multichannel image, like our RGB image, the weight matrix would be a 3 × 3 × 3 matrix: one set of weights for every channel, contributing together to the output values.\r\n",
        "\r\n",
        "Note that, just like the elements in the weight matrix of nn.Linear, the weights in the kernel are not known in advance, but they are initialized randomly and updated through backpropagation. Note also that the same kernel, and thus each weight in the kernel, is reused across the whole image. Thinking back to autograd, this means the use of each weight has a history spanning the entire image. Thus, the derivative of the loss with respect to a convolution weight includes contributions from the entire image.\r\n",
        "\r\n",
        "<img src='https://github.com/rahiakela/img-repo/blob/master/deep-learning-with-pytorch/locality-and-translation-invariance.png?raw=1' width='800'/>\r\n",
        "\r\n",
        "It’s now possible to see the connection to what we were stating earlier:**a convolution is equivalent to having multiple linear operations whose weights are zero almost everywhere except around individual pixels and that receive equal updates during training.**\r\n",
        "\r\n",
        "Summarizing, by switching to convolutions, we get:\r\n",
        "\r\n",
        "- **Local operations on neighborhoods**\r\n",
        "- **Local operations on neighborhoods**\r\n",
        "- **Models with a lot fewer parameters**\r\n",
        "\r\n",
        "The key insight underlying the third point is that, with a convolution layer, the number of parameters depends not on the number of pixels in the image, as was the case in our fully connected model, but rather on the size of the convolution kernel (3 × 3, 5 × 5, and so on) and on how many convolution filters (or output channels) we decide to use in our model."
      ]
    },
    {
      "cell_type": "markdown",
      "metadata": {
        "id": "PmHH9aRu6gW1"
      },
      "source": [
        "## Convolutions in action"
      ]
    },
    {
      "cell_type": "markdown",
      "metadata": {
        "id": "ZSjCHkTU6jMf"
      },
      "source": [
        "Let’s see some PyTorch in action on our birds versus airplanes challenge. The torch.nn module provides convolutions for 1, 2, and 3 dimensions: nn.Conv1d for time series, nn.Conv2d for images, and nn.Conv3d for volumes or videos.\r\n",
        "\r\n",
        "At a minimum, the arguments we provide to nn.Conv2d are the number of input features (or channels, since we’re dealing with multichannel images: that is, more than one value per pixel), the number of output features, and the size of the kernel.\r\n",
        "\r\n",
        "The more channels in the output image, the more the capacity of the network. We need the channels to be able to detect many different types of features.\r\n",
        "\r\n",
        "It is very common to have kernel sizes that are the same in all directions, so\r\n",
        "PyTorch has a shortcut for this: whenever kernel_size=3 is specified for a 2D convolution, it means 3 × 3 (provided as a tuple (3, 3) in Python). For a 3D convolution, it means 3 × 3 × 3."
      ]
    },
    {
      "cell_type": "code",
      "metadata": {
        "id": "1HsvvkNm0m2S",
        "colab": {
          "base_uri": "https://localhost:8080/"
        },
        "outputId": "c210387b-cac7-4622-b082-4b17836a48e5"
      },
      "source": [
        "conv = nn.Conv2d(3, 16, kernel_size=3)\r\n",
        "conv"
      ],
      "execution_count": 10,
      "outputs": [
        {
          "output_type": "execute_result",
          "data": {
            "text/plain": [
              "Conv2d(3, 16, kernel_size=(3, 3), stride=(1, 1))"
            ]
          },
          "metadata": {
            "tags": []
          },
          "execution_count": 10
        }
      ]
    },
    {
      "cell_type": "markdown",
      "metadata": {
        "id": "PzIhOZswVDjd"
      },
      "source": [
        "What do we expect to be the shape of the weight tensor? \r\n",
        "\r\n",
        "The kernel is of size `3 × 3`, so we want the weight to consist of `3 × 3` parts. For a single output pixel value, our kernel would consider, say, `in_ch = 3` input channels, so the weight component for a single output pixel value (and by translation the invariance for the entire output channel) is of shape `in_ch × 3 × 3`. Finally, we have as many of those as we have output channels, here `out_ch = 16`, so the complete weight tensor is `out_ch × in_ch × 3 × 3`, in our case `16 × 3 × 3 × 3`. The bias will have size 16.\r\n",
        "\r\n",
        "Let’s verify our assumptions:"
      ]
    },
    {
      "cell_type": "code",
      "metadata": {
        "id": "M61bQt5pUVL9",
        "colab": {
          "base_uri": "https://localhost:8080/"
        },
        "outputId": "75eecde7-dfe8-404e-fb20-6c02ef24bcbd"
      },
      "source": [
        "conv.weight.shape, conv.bias.shape"
      ],
      "execution_count": 11,
      "outputs": [
        {
          "output_type": "execute_result",
          "data": {
            "text/plain": [
              "(torch.Size([16, 3, 3, 3]), torch.Size([16]))"
            ]
          },
          "metadata": {
            "tags": []
          },
          "execution_count": 11
        }
      ]
    },
    {
      "cell_type": "markdown",
      "metadata": {
        "id": "C_wQGVFvVoLK"
      },
      "source": [
        "We can see how convolutions are a convenient choice for learning from images. We\r\n",
        "have smaller models looking for local patterns whose weights are optimized across the entire image.\r\n",
        "\r\n",
        "A 2D convolution pass produces a 2D image as output, whose pixels are a weighted\r\n",
        "sum over neighborhoods of the input image.\r\n",
        "\r\n",
        "As usual, we need to add the zeroth batch dimension with\r\n",
        "unsqueeze if we want to call the conv module with one input image, since nn.Conv2d expects a B × C × H × W shaped tensor as input:"
      ]
    },
    {
      "cell_type": "code",
      "metadata": {
        "id": "3_djc2dVVc0i",
        "colab": {
          "base_uri": "https://localhost:8080/"
        },
        "outputId": "864a692d-bd9b-4d22-ff38-5f1eece6bd2e"
      },
      "source": [
        "img, _ = cifar2[0]\r\n",
        "output = conv(img.unsqueeze(0))\r\n",
        "img.unsqueeze(0).shape, output.shape"
      ],
      "execution_count": 12,
      "outputs": [
        {
          "output_type": "execute_result",
          "data": {
            "text/plain": [
              "(torch.Size([1, 3, 32, 32]), torch.Size([1, 16, 30, 30]))"
            ]
          },
          "metadata": {
            "tags": []
          },
          "execution_count": 12
        }
      ]
    },
    {
      "cell_type": "markdown",
      "metadata": {
        "id": "ceth4g6tWUqW"
      },
      "source": [
        "We’re curious, so we can display the output."
      ]
    },
    {
      "cell_type": "code",
      "metadata": {
        "id": "sZJEcnoEWPnI",
        "colab": {
          "base_uri": "https://localhost:8080/",
          "height": 0
        },
        "outputId": "bef548d1-0e50-4d2e-8fd8-b81bba34a5c3"
      },
      "source": [
        "plt.imshow(output[0, 0].detach(), cmap=\"gray\")\r\n",
        "plt.show()"
      ],
      "execution_count": 13,
      "outputs": [
        {
          "output_type": "display_data",
          "data": {
            "image/png": "[encoded data removed]",
            "text/plain": [
              "<Figure size 432x288 with 1 Axes>"
            ]
          },
          "metadata": {
            "tags": [],
            "needs_background": "light"
          }
        }
      ]
    },
    {
      "cell_type": "code",
      "metadata": {
        "id": "D9evxvQbWifv",
        "colab": {
          "base_uri": "https://localhost:8080/",
          "height": 0
        },
        "outputId": "de9ec154-3f66-40e2-d1a6-6bf7893d658c"
      },
      "source": [
        "plt.figure(figsize=(10, 4.8)) \r\n",
        "ax1 = plt.subplot(1, 2, 1)   \r\n",
        "plt.title('output')   \r\n",
        "plt.imshow(output[0, 0].detach(), cmap='gray')\r\n",
        "plt.subplot(1, 2, 2, sharex=ax1, sharey=ax1) \r\n",
        "plt.imshow(img.mean(0), cmap='gray')  \r\n",
        "plt.title('input')  \r\n",
        " \r\n",
        "plt.show()"
      ],
      "execution_count": 14,
      "outputs": [
        {
          "output_type": "display_data",
          "data": {
            "image/png": "[encoded data removed]",
            "text/plain": [
              "<Figure size 720x345.6 with 2 Axes>"
            ]
          },
          "metadata": {
            "tags": [],
            "needs_background": "light"
          }
        }
      ]
    },
    {
      "cell_type": "markdown",
      "metadata": {
        "id": "4WDcxQIAXAN3"
      },
      "source": [
        "Wait a minute. Let’s take a look a the size of output: it’s `torch.Size([1, 16, 30, 30])`. Huh; we lost a few pixels in the process. How did that happen?"
      ]
    },
    {
      "cell_type": "markdown",
      "metadata": {
        "id": "g4aamEQvXGzK"
      },
      "source": [
        "## Padding the boundary"
      ]
    },
    {
      "cell_type": "markdown",
      "metadata": {
        "id": "rPStthf9XH13"
      },
      "source": [
        "By default, PyTorch will slide the convolution kernel within the input picture, getting `width - kernel_width + 1` horizontal and vertical positions. For odd-sized kernels, this results in images that are one-half the convolution kernel’s width (in our case, 3//2 = 1) smaller on each side. This explains why we’re missing two pixels in each dimension.\r\n",
        "\r\n",
        "However, PyTorch gives us the possibility of padding the image by creating ghost pixels around the border that have value zero as far as the convolution is concerned.\r\n",
        "\r\n",
        "<img src='https://github.com/rahiakela/img-repo/blob/master/deep-learning-with-pytorch/zero-padding.png?raw=1' width='800'/>\r\n",
        "\r\n",
        "In our case, specifying padding=1 when kernel_size=3 means i00 has an extra set\r\n",
        "of neighbors above it and to its left, so that an output of the convolution can be computed even in the corner of our original image."
      ]
    },
    {
      "cell_type": "code",
      "metadata": {
        "id": "v3VzAsO4Wyuk",
        "colab": {
          "base_uri": "https://localhost:8080/"
        },
        "outputId": "7695f8ad-2859-4aa6-c32d-dd5466ad349e"
      },
      "source": [
        "# Now with padding\r\n",
        "conv = nn.Conv2d(3, 1, kernel_size=3, padding=1)\r\n",
        "output = conv(img.unsqueeze(0))\r\n",
        "img.unsqueeze(0).shape, output.shape"
      ],
      "execution_count": 15,
      "outputs": [
        {
          "output_type": "execute_result",
          "data": {
            "text/plain": [
              "(torch.Size([1, 3, 32, 32]), torch.Size([1, 1, 32, 32]))"
            ]
          },
          "metadata": {
            "tags": []
          },
          "execution_count": 15
        }
      ]
    },
    {
      "cell_type": "markdown",
      "metadata": {
        "id": "7xUxNnVYc33A"
      },
      "source": [
        "There are two main reasons to pad convolutions. \r\n",
        "\r\n",
        "First, doing so helps us separate the matters of convolution and changing image sizes, so we have one less thing to remember. \r\n",
        "\r\n",
        "And second, when we have more elaborate structures such as skip connections or the U-Nets we’ll cover in part 2, we want the tensors before and after a few convolutions to be of compatible size so that we can add them or take differences."
      ]
    },
    {
      "cell_type": "markdown",
      "metadata": {
        "id": "N8GFtKsIdDM4"
      },
      "source": [
        "## Detecting features with convolutions"
      ]
    },
    {
      "cell_type": "markdown",
      "metadata": {
        "id": "r-V1r3JtdGQK"
      },
      "source": [
        "Weight and bias are parameters that are learned through backpropagation,\r\n",
        "exactly as it happens for weight and bias in nn.Linear. However, we can\r\n",
        "play with convolution by setting weights by hand and see what happens.\r\n",
        "\r\n",
        "Let’s first zero out bias, just to remove any confounding factors, and then set\r\n",
        "weights to a constant value so that each pixel in the output gets the mean of its neighbors."
      ]
    },
    {
      "cell_type": "code",
      "metadata": {
        "id": "RR6D0sRScSuZ"
      },
      "source": [
        "with torch.no_grad():\r\n",
        "  conv.bias.zero_()\r\n",
        "\r\n",
        "with torch.no_grad():\r\n",
        "  conv.weight.fill_(1.0 / 9.0)"
      ],
      "execution_count": 16,
      "outputs": []
    },
    {
      "cell_type": "code",
      "metadata": {
        "id": "TKzL-y797dKQ",
        "colab": {
          "base_uri": "https://localhost:8080/",
          "height": 0
        },
        "outputId": "72795357-c8b7-4885-98e0-39955b78af5d"
      },
      "source": [
        "output = conv(img.unsqueeze(0))\r\n",
        "plt.figure(figsize=(10, 4.8))  # bookskip\r\n",
        "ax1 = plt.subplot(1, 2, 1)   # bookskip\r\n",
        "plt.title('output')   # bookskip\r\n",
        "plt.imshow(output[0, 0].detach(), cmap='gray')\r\n",
        "plt.subplot(1, 2, 2, sharex=ax1, sharey=ax1)  # bookskip\r\n",
        "plt.imshow(img.mean(0), cmap='gray')  # bookskip\r\n",
        "plt.title('input')  # bookskip\r\n",
        "plt.show()"
      ],
      "execution_count": 17,
      "outputs": [
        {
          "output_type": "display_data",
          "data": {
            "image/png": "[encoded data removed]",
            "text/plain": [
              "<Figure size 720x345.6 with 2 Axes>"
            ]
          },
          "metadata": {
            "tags": [],
            "needs_background": "light"
          }
        }
      ]
    },
    {
      "cell_type": "markdown",
      "metadata": {
        "id": "b9IkQxHzAZYb"
      },
      "source": [
        "As we could have predicted, the filter produces a blurred version of the image.After all, every pixel of the output is the average of a neighborhood of the\r\n",
        "input, so pixels in the output are correlated and change more smoothly.\r\n",
        "\r\n",
        "Next, let’s try something different. The following kernel may look a bit mysterious at first:"
      ]
    },
    {
      "cell_type": "code",
      "metadata": {
        "id": "joghodwEAMZ9"
      },
      "source": [
        "conv = nn.Conv2d(3, 1, kernel_size=3, padding=1)\r\n",
        "\r\n",
        "with torch.no_grad():\r\n",
        "  conv.weight[:] = torch.tensor([\r\n",
        "    [-1.0, 0.0, 1.0],\r\n",
        "    [-1.0, 0.0, 1.0],\r\n",
        "    [-1.0, 0.0, 1.0]                             \r\n",
        "  ])\r\n",
        "  conv.bias.zero_()"
      ],
      "execution_count": 18,
      "outputs": []
    },
    {
      "cell_type": "code",
      "metadata": {
        "id": "jBE6SxwTBBSI",
        "colab": {
          "base_uri": "https://localhost:8080/",
          "height": 0
        },
        "outputId": "18a2992f-4bde-49ad-c704-c0e85d64edeb"
      },
      "source": [
        "output = conv(img.unsqueeze(0))\r\n",
        "plt.figure(figsize=(10, 4.8))  # bookskip\r\n",
        "ax1 = plt.subplot(1, 2, 1)   # bookskip\r\n",
        "plt.title('output')   # bookskip\r\n",
        "plt.imshow(output[0, 0].detach(), cmap='gray')\r\n",
        "plt.subplot(1, 2, 2, sharex=ax1, sharey=ax1)  # bookskip\r\n",
        "plt.imshow(img.mean(0), cmap='gray')  # bookskip\r\n",
        "plt.title('input')  # bookskip\r\n",
        "\r\n",
        "plt.show()"
      ],
      "execution_count": 19,
      "outputs": [
        {
          "output_type": "display_data",
          "data": {
            "image/png": "[encoded data removed]",
            "text/plain": [
              "<Figure size 720x345.6 with 2 Axes>"
            ]
          },
          "metadata": {
            "tags": [],
            "needs_background": "light"
          }
        }
      ]
    },
    {
      "cell_type": "markdown",
      "metadata": {
        "id": "VhiB1FKRF4v7"
      },
      "source": [
        "Working out the weighted sum for an arbitrary pixel in position 2,2, as we did earlier for the generic convolution kernel, we get\r\n",
        "\r\n",
        "```python\r\n",
        "o22 = i13 - i11 +\r\n",
        "      i23 - i21 +\r\n",
        "      i33 - i31\r\n",
        "```\r\n",
        "\r\n",
        "which performs the difference of all pixels on the right of i22 minus the pixels on the left of i22. If the kernel is applied on a vertical boundary between two adjacent regions of different intensity, o22 will have a high value. If the kernel is applied on a region of uniform intensity, o22 will be zero. \r\n",
        "\r\n",
        "**It’s an edge-detection kernel: the kernel highlights the vertical edge between two horizontally adjacent regions.**\r\n",
        "\r\n",
        "With deep learning, we let kernels be estimated from data in whatever way the discrimination is most effective: for instance, in terms of minimizing the negative crossentropy loss between the output and the ground truth.\r\n",
        "\r\n",
        "From this angle, the job of a convolutional neural network is to estimate the kernel of a set of filter banks in successive layers that will transform a multichannel image into another multichannel image, where different channels correspond to different features (such as one channel for the average, another channel for vertical edges, and so on).\r\n",
        "\r\n",
        "<img src='https://github.com/rahiakela/img-repo/blob/master/deep-learning-with-pytorch/convolutions-learning-process.png?raw=1' width='800'/>"
      ]
    },
    {
      "cell_type": "markdown",
      "metadata": {
        "id": "YI2abTOXIZhB"
      },
      "source": [
        "## Looking further with depth and pooling"
      ]
    },
    {
      "cell_type": "markdown",
      "metadata": {
        "id": "gkZLWpCbIajG"
      },
      "source": [
        "This is all well and good, but conceptually there’s an elephant in the room. We got all excited because by moving from fully connected layers to convolutions, we achieve locality and translation invariance. Then we recommended the use of small kernels, like 3 × 3, or 5 × 5: that’s peak locality, all right.\r\n",
        "\r\n",
        "**FROM LARGE TO SMALL: DOWNSAMPLING**\r\n",
        "\r\n",
        "Downsampling could in principle occur in different ways. Scaling an image by half is the equivalent of taking four neighboring pixels as input and producing one pixel as output. How we compute the value of the output based on the values of the input is up to us. We could\r\n",
        "\r\n",
        "- **Average the four pixels**. This average pooling was a common approach early on but has fallen out of favor somewhat.\r\n",
        "- **Take the maximum of the four pixels**. This approach, called max pooling, is currently the most commonly used approach, but it has a downside of discarding the other three-quarters of the data.\r\n",
        "- **Perform a strided convolution, where only every Nth pixel is calculated**. A 3 × 4 convolution with stride 2 still incorporates input from all pixels from the previous layer. The literature shows promise for this approach, but it has not yet supplanted max pooling.\r\n",
        "\r\n",
        "<img src='https://github.com/rahiakela/img-repo/blob/master/deep-learning-with-pytorch/max-pooling.png?raw=1' width='800'/>\r\n",
        "\r\n",
        "By keeping the highest value in the 2 × 2 neighborhood as the downsampled\r\n",
        "output, we ensure that the features that are found survive the downsampling,\r\n",
        "at the expense of the weaker responses.\r\n",
        "\r\n",
        "Max pooling is provided by the nn.MaxPool2d module (as with convolution, there are versions for 1D and 3D data). It takes as input the size of the neighborhood over which to operate the pooling operation. If we wish to downsample our image by half, we’ll want to use a size of 2. \r\n",
        "\r\n",
        "Let’s verify that it works as expected directly on our input image:"
      ]
    },
    {
      "cell_type": "code",
      "metadata": {
        "id": "MJ5XDwRVvSSa",
        "colab": {
          "base_uri": "https://localhost:8080/"
        },
        "outputId": "1c85d28f-8efc-491e-a5d7-780d59c14d7c"
      },
      "source": [
        "pool = nn.MaxPool2d(2)\r\n",
        "output = pool(img.unsqueeze(0))\r\n",
        "\r\n",
        "img.unsqueeze(0).shape, output.shape"
      ],
      "execution_count": 20,
      "outputs": [
        {
          "output_type": "execute_result",
          "data": {
            "text/plain": [
              "(torch.Size([1, 3, 32, 32]), torch.Size([1, 3, 16, 16]))"
            ]
          },
          "metadata": {
            "tags": []
          },
          "execution_count": 20
        }
      ]
    },
    {
      "cell_type": "markdown",
      "metadata": {
        "id": "VB6klnpatya8"
      },
      "source": [
        "**COMBINING CONVOLUTIONS AND DOWNSAMPLING FOR GREAT GOOD**\r\n",
        "\r\n",
        "Let’s now see how combining convolutions and downsampling can help us recognize\r\n",
        "larger structures. we start by applying a set of 3 × 3 kernels on our 8 × 8\r\n",
        "image, obtaining a multichannel output image of the same size. Then we scale down the output image by half, obtaining a 4 × 4 image, and apply another set of 3 × 3 kernels to it. This second set of kernels operates on a 3 × 3 neighborhood of something that has been scaled down by half, so it effectively maps back to 8 × 8 neighborhoods of the input. In addition, the second set of kernels takes the output of the first set of kernels (features like averages, edges, and so on) and extracts additional features on top of those.\r\n",
        "\r\n",
        "<img src='https://github.com/rahiakela/img-repo/blob/master/deep-learning-with-pytorch/max-pooling-ops.png?raw=1' width='800'/>\r\n",
        "\r\n",
        "So, on one hand, the first set of kernels operates on small neighborhoods on firstorder, low-level features, while the second set of kernels effectively operates on wider neighborhoods, producing features that are compositions of the previous features."
      ]
    },
    {
      "cell_type": "markdown",
      "metadata": {
        "id": "AiItKYOGw3D6"
      },
      "source": [
        "## Putting it all together for our network"
      ]
    },
    {
      "cell_type": "markdown",
      "metadata": {
        "id": "1edjoyfl1iLE"
      },
      "source": [
        "With these building blocks in our hands, we can now proceed to build our convolutional neural network for detecting birds and airplanes.\r\n",
        "\r\n",
        "The first convolution takes us from 3 RGB channels to 16, thereby giving the network a chance to generate 16 independent features that operate to (hopefully) discriminate low-level features of birds and airplanes. Then we apply the Tanh activation function. The resulting 16-channel 32 × 32 image is pooled to a 16-channel 16 × 16 image by the first MaxPool3d. At this point, the downsampled image undergoes another convolution that generates an 8-channel 16 × 16 output. With any luck, this output will consist of higher-level features. Again, we apply a Tanh activation and then pool to an 8-channel 8 × 8 output.\r\n",
        "\r\n",
        "<img src='https://github.com/rahiakela/img-repo/blob/master/deep-learning-with-pytorch/conv-arch.png?raw=1' width='800'/>\r\n",
        "\r\n",
        "Thinking back to the beginning of this chapter, we already know what we need to\r\n",
        "do: turn the 8-channel 8 × 8 image into a 1D vector and complete our network with a set of fully connected layers:"
      ]
    },
    {
      "cell_type": "code",
      "metadata": {
        "id": "-YRIRum5BKj2"
      },
      "source": [
        "model = nn.Sequential(\r\n",
        "    nn.Conv2d(3, 16, kernel_size=3, padding=1),\r\n",
        "    nn.Tanh(),\r\n",
        "    nn.MaxPool2d(2),\r\n",
        "\r\n",
        "    nn.Conv2d(16, 8, kernel_size=3, padding=1),\r\n",
        "    nn.Tanh(),\r\n",
        "    nn.MaxPool2d(2),\r\n",
        "\r\n",
        "    # ...<1>\r\n",
        "\r\n",
        "    nn.Linear(8 * 8 * 8, 32),\r\n",
        "    nn.Tanh(),\r\n",
        "    nn.Linear(32, 2)\r\n",
        ")"
      ],
      "execution_count": 21,
      "outputs": []
    },
    {
      "cell_type": "markdown",
      "metadata": {
        "id": "ixhmK1J_27MS"
      },
      "source": [
        "Ignore the “something missing” comment for a minute. Let’s first notice that the size of the linear layer is dependent on the expected size of the output of MaxPool2d: 8 × 8 × 8 = 512. Let’s count the number of parameters for this small model:"
      ]
    },
    {
      "cell_type": "code",
      "metadata": {
        "id": "idEBdwDi20SM",
        "colab": {
          "base_uri": "https://localhost:8080/"
        },
        "outputId": "a61dd138-49d2-4dfb-ab3d-cc23ced9181e"
      },
      "source": [
        "numel_list = [p.numel() for p in model.parameters()]\r\n",
        "sum(numel_list), numel_list"
      ],
      "execution_count": 22,
      "outputs": [
        {
          "output_type": "execute_result",
          "data": {
            "text/plain": [
              "(18090, [432, 16, 1152, 8, 16384, 32, 64, 2])"
            ]
          },
          "metadata": {
            "tags": []
          },
          "execution_count": 22
        }
      ]
    },
    {
      "cell_type": "markdown",
      "metadata": {
        "id": "xthpjWPl3sfc"
      },
      "source": [
        "We put the “Warning” note in the code for a reason. The model has zero chance of\r\n",
        "running without complaining:"
      ]
    },
    {
      "cell_type": "code",
      "metadata": {
        "id": "zs8ISdOv3mVF"
      },
      "source": [
        "# model(img.unsqueeze(0))"
      ],
      "execution_count": 23,
      "outputs": []
    },
    {
      "cell_type": "markdown",
      "metadata": {
        "id": "SvvYhkD04B2t"
      },
      "source": [
        "Admittedly, the error message is a bit obscure, but not too much so. We find references to linear in the traceback: looking back at the model, we see that only module that has to have a 512 × 32 tensor is nn.Linear(512, 32), the first linear module after the last convolution block.\r\n",
        "\r\n",
        "What’s missing there is the reshaping step from an 8-channel 8 × 8 image to a 512-element, 1D vector (1D if we ignore the batch dimension, that is). This could be achieved by calling view on the output of the last nn.MaxPool2d, but unfortunately, we don’t have any explicit visibility of the output of each module when we use nn.Sequential."
      ]
    },
    {
      "cell_type": "markdown",
      "metadata": {
        "id": "Q5ANOLxcEYQk"
      },
      "source": [
        "## Subclassing nn.Module"
      ]
    },
    {
      "cell_type": "markdown",
      "metadata": {
        "id": "cEgJANh1revX"
      },
      "source": [
        "When we want to build models that do more complex things than just applying\r\n",
        "one layer after another, we need to leave for something that gives us\r\n",
        "nn.Sequential added flexibility. PyTorch allows us to use any computation in our model by subclassing nn.Module.\r\n",
        "\r\n",
        "In order to subclass nn.Module, at a minimum we need to define a function\r\n",
        "forward that takes the inputs to the module and returns the output. This is where we define our module’s computation.\r\n",
        "\r\n",
        "With PyTorch, if we use standard torch operations, autograd will take care of the backward pass automatically; and indeed, an nn.Module never comes with a backward.\r\n",
        "\r\n",
        "Typically, our computation will use other modules—premade like convolutions or\r\n",
        "customized. To include these submodules, we typically define them in the constructor `__init__` and assign them to self for use in the forward function. They will, at the same time, hold their parameters throughout the lifetime of our module. Note that you need to call `super().__init__()` before you can do that (or PyTorch will remind you)."
      ]
    },
    {
      "cell_type": "markdown",
      "metadata": {
        "id": "NxjdvnWSsOsX"
      },
      "source": [
        "### Our network as an nn.Module"
      ]
    },
    {
      "cell_type": "markdown",
      "metadata": {
        "id": "VHQLkX_KsSw-"
      },
      "source": [
        "Let’s write our network as a submodule. To do so, we instantiate all the nn.Conv2d, nn.Linear, and so on that we previously passed to nn.Sequential in the constructor, and then use their instances one after another in forward:"
      ]
    },
    {
      "cell_type": "code",
      "metadata": {
        "id": "W-ooeLPo3xUi"
      },
      "source": [
        "class Net(nn.Module):\r\n",
        "\r\n",
        "  def __init__(self):\r\n",
        "    super().__init__()\r\n",
        "    self.conv1 = nn.Conv2d(3, 16, kernel_size=3, padding=1)\r\n",
        "    self.activation1 = nn.Tanh()\r\n",
        "    self.pool1 = nn.MaxPool2d(2)\r\n",
        "\r\n",
        "    self.conv2 = nn.Conv2d(16, 8, kernel_size=3, padding=1)\r\n",
        "    self.activation2 = nn.Tanh()\r\n",
        "    self.pool2 = nn.MaxPool2d(2)\r\n",
        "\r\n",
        "    self.fc1 = nn.Linear(8 * 8 * 8, 32)\r\n",
        "    self.activation3 = nn.Tanh()\r\n",
        "    self.fc2 = nn.Linear(32, 2)\r\n",
        "\r\n",
        "  def forward(self, x):\r\n",
        "    out = self.pool1(self.activation1(self.conv1(x)))\r\n",
        "    out = self.pool2(self.activation2(self.conv2(out)))\r\n",
        "    # This reshape is what we were missing earlier.\r\n",
        "    out = out.view(-1, 8 * 8 * 8)\r\n",
        "    out = self.activation3(self.fc1(out))\r\n",
        "    out = self.fc2(out)\r\n",
        "\r\n",
        "    return out"
      ],
      "execution_count": 24,
      "outputs": []
    },
    {
      "cell_type": "markdown",
      "metadata": {
        "id": "s3pUUlnY0i_K"
      },
      "source": [
        "Note that we leave the batch dimension as –1 in the call to view, since in principle we don’t know how many samples will be in the batch.\r\n",
        "\r\n",
        "Recall that the goal of classification networks typically is to compress information in the sense that we start with an image with a sizable number of pixels and compress it into (a vector of probabilities of) classes. Two things about our architecture deserve some commentary with respect to this goal.\r\n",
        "\r\n",
        "First, our goal is reflected by the size of our intermediate values generally\r\n",
        "shrinking—this is done by reducing the number of channels in the convolutions, by reducing the number of pixels through pooling, and by having an output dimension lower than the input dimension in the linear layers. This is a common trait of classification networks. However, the reduction is achieved by pooling in the spatial resolution, but the number of channels increases (still resulting in a reduction in size). It seems that our pattern of fast information reduction works well with networks of limited depth and small images; but for deeper networks, the decrease is typically slower.\r\n",
        "\r\n",
        "Second, in one layer, there is not a reduction of output size with regard to input size: the initial convolution. If we consider a single output pixel as a vector of 32 elements (the channels), it is a linear transformation of 27 elements (as a convolution of 3 channels × 3 × 3 kernel size)—only a moderate increase."
      ]
    },
    {
      "cell_type": "markdown",
      "metadata": {
        "id": "4TfnY4Kn1XyG"
      },
      "source": [
        "### How PyTorch keeps track of parameters and submodules"
      ]
    },
    {
      "cell_type": "markdown",
      "metadata": {
        "id": "HL3G1KZ01Zhe"
      },
      "source": [
        "Interestingly, assigning an instance of nn.Module to an attribute in an nn.Module, automatically registers the module as a submodule."
      ]
    },
    {
      "cell_type": "code",
      "metadata": {
        "id": "sdDoN09i0YoG",
        "colab": {
          "base_uri": "https://localhost:8080/"
        },
        "outputId": "6c45f360-e6e6-45a4-bb98-ac43f2771356"
      },
      "source": [
        "net = Net()\r\n",
        "\r\n",
        "numel_list = [p.numel() for p in model.parameters()]\r\n",
        "sum(numel_list), numel_list"
      ],
      "execution_count": 25,
      "outputs": [
        {
          "output_type": "execute_result",
          "data": {
            "text/plain": [
              "(18090, [432, 16, 1152, 8, 16384, 32, 64, 2])"
            ]
          },
          "metadata": {
            "tags": []
          },
          "execution_count": 25
        }
      ]
    },
    {
      "cell_type": "markdown",
      "metadata": {
        "id": "uclVkuGA4jkN"
      },
      "source": [
        "What happens here is that the call delves into all submodules assigned\r\n",
        "parameters() as attributes in the constructor and recursively calls\r\n",
        "on them. No matter parameters()  how nested the submodule, any can access the list of all child parameters. nn.Module By accessing their grad attribute, which has been populated by autograd, the optimizer will know how to change parameters to minimize the loss."
      ]
    },
    {
      "cell_type": "markdown",
      "metadata": {
        "id": "MDymMIAEFNd2"
      },
      "source": [
        "### The functional API"
      ]
    },
    {
      "cell_type": "markdown",
      "metadata": {
        "id": "KE8o18vkFOq3"
      },
      "source": [
        "By “functional” here we mean “having no internal state”—in other words, “whose output value is solely and fully determined by the value input arguments.”\r\n",
        "\r\n",
        "Indeed, torch.nn.functional provides many functions that work like the modules we find in nn. But instead of working on the input arguments and stored parameters like the module counterparts, they take inputs and parameters as arguments to the function call.\r\n",
        "\r\n",
        "For instance, the functional counterpart of nn.Linear is nn.functional.linear,\r\n",
        "which is a function that has signature linear(input, weight, bias=None). The\r\n",
        "weight and bias parameters are arguments to the function."
      ]
    },
    {
      "cell_type": "code",
      "metadata": {
        "id": "Al3gxV1K4P76"
      },
      "source": [
        "class Net(nn.Module):\r\n",
        "\r\n",
        "  def __init__(self):\r\n",
        "    super().__init__()\r\n",
        "    self.conv1 = nn.Conv2d(3, 16, kernel_size=3, padding=1)\r\n",
        "    self.conv2 = nn.Conv2d(16, 8, kernel_size=3, padding=1)\r\n",
        "    self.fc1 = nn.Linear(8 * 8 * 8, 32)\r\n",
        "    self.fc2 = nn.Linear(32, 2)\r\n",
        "\r\n",
        "  def forward(self, x):\r\n",
        "    out = F.max_pool2d(torch.tanh(self.conv1(x)), 2)\r\n",
        "    out = F.max_pool2d(torch.tanh(self.conv2(out)), 2)\r\n",
        "    out = out.view(-1, 8 * 8 * 8)\r\n",
        "    out = torch.tanh(self.fc1(out))\r\n",
        "    out = self.fc2(out)\r\n",
        "\r\n",
        "    return out"
      ],
      "execution_count": 26,
      "outputs": []
    },
    {
      "cell_type": "markdown",
      "metadata": {
        "id": "jFpo5Jh0Ijr7"
      },
      "source": [
        "Thus, the functional way also sheds light on what the nn.Module API is all about: a Module is a container for state in the forms of Parameters and submodules combined with the instructions to do a forward.\r\n",
        "\r\n",
        "Whether to use the functional or the modular API is a decision based on style and taste. When part of a network is so simple that we want to use nn.Sequential, we’re in the modular realm. When we are writing our own forwards, it may be more natural to use the functional interface for things that do not need state in the form of parameters.\r\n",
        "\r\n",
        "So now we can make our own nn.Module if we need to, and we also have the functional API for cases when instantiating and then calling an nn.Module is overkill.\r\n",
        "\r\n",
        "Let’s double-check that our model runs, and then we’ll get to the training loop:"
      ]
    },
    {
      "cell_type": "code",
      "metadata": {
        "id": "CmwhFIGeIXrL",
        "colab": {
          "base_uri": "https://localhost:8080/"
        },
        "outputId": "16a7fefd-99fc-48e5-a323-e729568ce094"
      },
      "source": [
        "model = Net()\r\n",
        "model(img.unsqueeze(0))"
      ],
      "execution_count": 27,
      "outputs": [
        {
          "output_type": "execute_result",
          "data": {
            "text/plain": [
              "tensor([[0.1720, 0.1507]], grad_fn=<AddmmBackward>)"
            ]
          },
          "metadata": {
            "tags": []
          },
          "execution_count": 27
        }
      ]
    },
    {
      "cell_type": "markdown",
      "metadata": {
        "id": "JyU4XAGPJpc7"
      },
      "source": [
        "We got two numbers! Information flows correctly. We might not realize it right now, but in more complex models, getting the size of the first linear layer right is sometimes a source of frustration."
      ]
    },
    {
      "cell_type": "markdown",
      "metadata": {
        "id": "beTvODnmJrsp"
      },
      "source": [
        "## Training our convnet"
      ]
    },
    {
      "cell_type": "markdown",
      "metadata": {
        "id": "-5nAGUC3JviO"
      },
      "source": [
        "We’re now at the point where we can assemble our complete training loop.\r\n",
        "\r\n",
        "The core of our convnet is two nested loops: an outer one over the epochs and an inner one of the DataLoader that produces batches from our Dataset. \r\n",
        "\r\n",
        "In each loop, we then have to\r\n",
        "\r\n",
        "1. Feed the inputs through the model (the forward pass).\r\n",
        "2. Compute the loss (also part of the forward pass).\r\n",
        "3. Zero any old gradients.\r\n",
        "4. Call loss.backward() to compute the gradients of the loss with respect to all\r\n",
        "parameters (the backward pass).\r\n",
        "5. Have the optimizer take a step in toward lower loss."
      ]
    },
    {
      "cell_type": "code",
      "metadata": {
        "id": "tsbVA_WeJSyM"
      },
      "source": [
        "def training_loop(n_epochs, optimizer, model, loss_fn, train_loader):\r\n",
        "  # loop over the epochs, numbered from 1 to n_epochs rather than starting at 0\r\n",
        "  for epoch in range(1, n_epochs + 1):\r\n",
        "    loss_train = 0.0\r\n",
        "    # Loops over dataset in the batches the data loader creates for us\r\n",
        "    for imgs, labels in train_loader:\r\n",
        "      # Feeds a batch through our model\r\n",
        "      outputs = model(imgs)\r\n",
        "      # and computes the loss we wish to minimize\r\n",
        "      loss = loss_fn(outputs, labels)\r\n",
        "      # After getting rid of the gradients from the last round\r\n",
        "      optimizer.zero_grad()\r\n",
        "      # performs the backward step. That is, we compute the gradients of all parameters we want the network to learn.\r\n",
        "      loss.backward()\r\n",
        "      # Updates the model\r\n",
        "      optimizer.step()\r\n",
        "      # Sums the losses\r\n",
        "      loss_train += loss.item()\r\n",
        "    if epoch == 1 or epoch % 10 == 0:\r\n",
        "      # Divides by the length of the training data loader to get the average loss per batch.\r\n",
        "      print(\"{} Epoch {}, Training loss {}\".format(datetime.datetime.now(), epoch, loss_train / len(train_loader)))"
      ],
      "execution_count": 28,
      "outputs": []
    },
    {
      "cell_type": "markdown",
      "metadata": {
        "id": "VeQ8xgBkSi6g"
      },
      "source": [
        "We use the Dataset; wrap it into a DataLoader; instantiate our network,\r\n",
        "an optimizer, and a loss function as before; and call our training loop.\r\n",
        "\r\n",
        "Let’s run training for 100 epochs while printing the loss. Depending on your hardware, this may take 20 minutes or more to finish!"
      ]
    },
    {
      "cell_type": "code",
      "metadata": {
        "id": "WpC7cfe_Sg79",
        "colab": {
          "base_uri": "https://localhost:8080/"
        },
        "outputId": "ae07e991-a72a-4160-f0de-fa9d0ce5e2d7"
      },
      "source": [
        "# The DataLoader batches up the examples of our cifar2 dataset. \r\n",
        "# Shuffling randomizes the order of the examples from the dataset.\r\n",
        "train_loader = torch.utils.data.DataLoader(cifar2, batch_size=64, shuffle=True)\r\n",
        "\r\n",
        "# Instantiates our network …\r\n",
        "model = Net()\r\n",
        "\r\n",
        "# the stochastic gradient descent optimizer we have been working with\r\n",
        "optimizer = optim.SGD(model.parameters(), lr=1e-2)\r\n",
        "# and the cross entropy loss\r\n",
        "loss_fn = nn.CrossEntropyLoss()\r\n",
        "\r\n",
        "training_loop(n_epochs=100, optimizer=optimizer, model=model, loss_fn=loss_fn, train_loader=train_loader)"
      ],
      "execution_count": 29,
      "outputs": [
        {
          "output_type": "stream",
          "text": [
            "2021-01-05 05:03:08.270598 Epoch 1, Training loss 0.5786836488991026\n",
            "2021-01-05 05:03:41.706019 Epoch 10, Training loss 0.3248441396815002\n",
            "2021-01-05 05:04:18.964806 Epoch 20, Training loss 0.2937185798481012\n",
            "2021-01-05 05:04:56.163587 Epoch 30, Training loss 0.2710140582862174\n",
            "2021-01-05 05:05:33.203224 Epoch 40, Training loss 0.2544134628905612\n",
            "2021-01-05 05:06:10.339396 Epoch 50, Training loss 0.24225453652773693\n",
            "2021-01-05 05:06:47.278346 Epoch 60, Training loss 0.2242267387118309\n",
            "2021-01-05 05:07:23.464880 Epoch 70, Training loss 0.21108372443041223\n",
            "2021-01-05 05:07:59.428496 Epoch 80, Training loss 0.19629904437976278\n",
            "2021-01-05 05:08:36.036917 Epoch 90, Training loss 0.1811957617948769\n",
            "2021-01-05 05:09:12.796429 Epoch 100, Training loss 0.16627288676181418\n"
          ],
          "name": "stdout"
        }
      ]
    },
    {
      "cell_type": "markdown",
      "metadata": {
        "id": "NMQw6Zg-UgA-"
      },
      "source": [
        "### Measuring accuracy"
      ]
    },
    {
      "cell_type": "markdown",
      "metadata": {
        "id": "s1rIffg0UhAZ"
      },
      "source": [
        "In order to have a measure that is more interpretable than the loss, we can take a look at our accuracies on the training and validation datasets."
      ]
    },
    {
      "cell_type": "code",
      "metadata": {
        "id": "xdOBbYsFT23v"
      },
      "source": [
        "train_loader = torch.utils.data.DataLoader(cifar2, batch_size=64, shuffle=False)\r\n",
        "val_loader = torch.utils.data.DataLoader(cifar2_val, batch_size=64, shuffle=False)"
      ],
      "execution_count": 31,
      "outputs": []
    },
    {
      "cell_type": "code",
      "metadata": {
        "id": "B3qqlTa08Waj",
        "outputId": "bfddb652-6ecd-4092-f832-4900010104cd",
        "colab": {
          "base_uri": "https://localhost:8080/"
        }
      },
      "source": [
        "def validate(model, train_loader, val_loader):\r\n",
        "  for name, loader in [(\"train\", train_loader), (\"val\", val_loader)]:\r\n",
        "    correct = 0\r\n",
        "    total = 0\r\n",
        "    # We do not want gradients here, as we will not want to update the parameters\r\n",
        "    with torch.no_grad():\r\n",
        "      for imgs, labels in loader:\r\n",
        "        outputs = model(imgs)\r\n",
        "        # Gives us the index of the highest value as output\r\n",
        "        _, predicted = torch.max(outputs, dim=1)\r\n",
        "        # Counts the number of examples, so total is increased by the batch size\r\n",
        "        total += labels.shape[0]\r\n",
        "        # Comparing the predicted class that had the maximum probability and the ground-truth labels, we first get a Boolean array. Taking the\r\n",
        "        # sum gives the number of items in the batch where the prediction and ground truth agree.\r\n",
        "        correct += int((predicted == labels).sum())\r\n",
        "    print(\"Accuracy {}: {:.2f}\".format(name, correct / total))\r\n",
        "\r\n",
        "validate(model, train_loader, val_loader)"
      ],
      "execution_count": 32,
      "outputs": [
        {
          "output_type": "stream",
          "text": [
            "Accuracy train: 0.94\n",
            "Accuracy val: 0.89\n"
          ],
          "name": "stdout"
        }
      ]
    },
    {
      "cell_type": "markdown",
      "metadata": {
        "id": "YGMHP80O-hMs"
      },
      "source": [
        "This is quite a lot better than the fully connected model, which achieved only 79% accuracy. We about halved the number of errors on the validation set. Also, we used far fewer parameters. **This is telling us that the model does a better job of generalizing its task of recognizing the subject of images from a new sample, through locality and translation invariance.** We could now let it run for more epochs and see what performance we could squeeze out."
      ]
    },
    {
      "cell_type": "markdown",
      "metadata": {
        "id": "54cEaZVn-xgW"
      },
      "source": [
        "### Saving and loading our model"
      ]
    },
    {
      "cell_type": "markdown",
      "metadata": {
        "id": "e7z7yZ0B-yYi"
      },
      "source": [
        "Since we’re satisfied with our model so far, it would be nice to actually save it, right?"
      ]
    },
    {
      "cell_type": "code",
      "metadata": {
        "id": "GKsK2Kot-Mqx"
      },
      "source": [
        "torch.save(model.state_dict(), data_path + \"birds_vs_airplanes.pt\")"
      ],
      "execution_count": 33,
      "outputs": []
    },
    {
      "cell_type": "markdown",
      "metadata": {
        "id": "q1zlYIzM_SeB"
      },
      "source": [
        "The birds_vs_airplanes.pt file now contains all the parameters of model: that is, weights and biases for the two convolution modules and the two linear modules. So, no structure—just the weights. **This means when we deploy the model in production for our friend, we’ll need to keep the model class handy, create an instance, and then load the parameters back into it**:"
      ]
    },
    {
      "cell_type": "code",
      "metadata": {
        "id": "7mZxIood_o9p",
        "outputId": "ded6474b-3f4b-4a34-ed96-aefa28fb132a",
        "colab": {
          "base_uri": "https://localhost:8080/"
        }
      },
      "source": [
        "# We will have to make sure we don’t change the definition of Net between saving and later loading the model state.\r\n",
        "loaded_model = Net()\r\n",
        "loaded_model.load_state_dict(torch.load(data_path + \"birds_vs_airplanes.pt\"))"
      ],
      "execution_count": 35,
      "outputs": [
        {
          "output_type": "execute_result",
          "data": {
            "text/plain": [
              "<All keys matched successfully>"
            ]
          },
          "metadata": {
            "tags": []
          },
          "execution_count": 35
        }
      ]
    },
    {
      "cell_type": "markdown",
      "metadata": {
        "id": "-NV-DKuyA7qv"
      },
      "source": [
        "### Training on the GPU"
      ]
    },
    {
      "cell_type": "markdown",
      "metadata": {
        "id": "n68P_QU0A70_"
      },
      "source": [
        "It is considered good style to move things to the GPU if one is available. A good pattern is to set the a variable device depending on torch.cuda.is_available:"
      ]
    },
    {
      "cell_type": "code",
      "metadata": {
        "id": "9rbORur8_1ZD",
        "outputId": "28e5f68d-1749-419d-b58e-216d7982f707",
        "colab": {
          "base_uri": "https://localhost:8080/"
        }
      },
      "source": [
        "device = (torch.device(\"cuda\") if torch.cuda.is_available() else torch.device(\"cpu\"))\r\n",
        "print(f\"Training on device {device}.\")"
      ],
      "execution_count": 36,
      "outputs": [
        {
          "output_type": "stream",
          "text": [
            "Training on device cuda.\n"
          ],
          "name": "stdout"
        }
      ]
    },
    {
      "cell_type": "markdown",
      "metadata": {
        "id": "pCMczbvCBbrS"
      },
      "source": [
        "Then we can amend the training loop by moving the tensors we get from the data\r\n",
        "loader to the GPU by using the Tensor.to method. Note that the code is exactly like our first version at the beginning of this section except for the two lines moving the inputs to the GPU:"
      ]
    },
    {
      "cell_type": "code",
      "metadata": {
        "id": "z6YqVZNZBSTb"
      },
      "source": [
        "def training_loop(n_epochs, optimizer, model, loss_fn, train_loader):\r\n",
        "  # loop over the epochs, numbered from 1 to n_epochs rather than starting at 0\r\n",
        "  for epoch in range(1, n_epochs + 1):\r\n",
        "    loss_train = 0.0\r\n",
        "    # Loops over dataset in the batches the data loader creates for us\r\n",
        "    for imgs, labels in train_loader:\r\n",
        "      # These two lines that move imgs and labels to the GPU device\r\n",
        "      imgs = imgs.to(device=device)\r\n",
        "      labels = labels.to(device=device)\r\n",
        "      # Feeds a batch through our model\r\n",
        "      outputs = model(imgs)\r\n",
        "      # and computes the loss we wish to minimize\r\n",
        "      loss = loss_fn(outputs, labels)\r\n",
        "      # After getting rid of the gradients from the last round\r\n",
        "      optimizer.zero_grad()\r\n",
        "      # performs the backward step. That is, we compute the gradients of all parameters we want the network to learn.\r\n",
        "      loss.backward()\r\n",
        "      # Updates the model\r\n",
        "      optimizer.step()\r\n",
        "      # Sums the losses\r\n",
        "      loss_train += loss.item()\r\n",
        "    if epoch == 1 or epoch % 10 == 0:\r\n",
        "      # Divides by the length of the training data loader to get the average loss per batch.\r\n",
        "      print(\"{} Epoch {}, Training loss {}\".format(datetime.datetime.now(), epoch, loss_train / len(train_loader)))"
      ],
      "execution_count": 37,
      "outputs": []
    },
    {
      "cell_type": "markdown",
      "metadata": {
        "id": "5sxJmqMNCUgo"
      },
      "source": [
        "The same amendment must be made to the validate function. We can then instantiate our model, move it to device, and run it as before:"
      ]
    },
    {
      "cell_type": "code",
      "metadata": {
        "id": "ENJm9SUBCN94",
        "outputId": "badb5710-b80d-4057-cba7-6badfe0ddbdb",
        "colab": {
          "base_uri": "https://localhost:8080/"
        }
      },
      "source": [
        "# The DataLoader batches up the examples of our cifar2 dataset. \r\n",
        "# Shuffling randomizes the order of the examples from the dataset.\r\n",
        "train_loader = torch.utils.data.DataLoader(cifar2, batch_size=64, shuffle=True)\r\n",
        "\r\n",
        "# Moves our model (all parameters) to the GPU. If you forget to move either the model or the inputs to the GPU, \r\n",
        "# you will get errors about tensors not being on the same device, because the PyTorch operators do not support mixing GPU and CPU inputs.\r\n",
        "model = Net().to(device=device)\r\n",
        "\r\n",
        "# the stochastic gradient descent optimizer we have been working with\r\n",
        "optimizer = optim.SGD(model.parameters(), lr=1e-2)\r\n",
        "# and the cross entropy loss\r\n",
        "loss_fn = nn.CrossEntropyLoss()\r\n",
        "\r\n",
        "training_loop(n_epochs=100, optimizer=optimizer, model=model, loss_fn=loss_fn, train_loader=train_loader)"
      ],
      "execution_count": 38,
      "outputs": [
        {
          "output_type": "stream",
          "text": [
            "2021-01-05 05:35:54.481627 Epoch 1, Training loss 0.563042357848708\n",
            "2021-01-05 05:35:58.038387 Epoch 10, Training loss 0.32705511902547946\n",
            "2021-01-05 05:36:02.006862 Epoch 20, Training loss 0.29225688631747176\n",
            "2021-01-05 05:36:05.973583 Epoch 30, Training loss 0.26633061069971437\n",
            "2021-01-05 05:36:09.897699 Epoch 40, Training loss 0.24332441906830307\n",
            "2021-01-05 05:36:13.839061 Epoch 50, Training loss 0.22811335804545954\n",
            "2021-01-05 05:36:17.761437 Epoch 60, Training loss 0.2071851799917069\n",
            "2021-01-05 05:36:21.750035 Epoch 70, Training loss 0.18908071911828533\n",
            "2021-01-05 05:36:25.724118 Epoch 80, Training loss 0.1742425304214666\n",
            "2021-01-05 05:36:29.629614 Epoch 90, Training loss 0.15809818433158718\n",
            "2021-01-05 05:36:33.545819 Epoch 100, Training loss 0.1415871636835253\n"
          ],
          "name": "stdout"
        }
      ]
    },
    {
      "cell_type": "markdown",
      "metadata": {
        "id": "ZwS9mSjkC-HY"
      },
      "source": [
        "Even for our small network here, we do see a sizable increase in speed. The advantage of computing on GPUs is more visible for larger models.\r\n",
        "\r\n",
        "It is a bit more concise to instruct PyTorch to override the device\r\n",
        "information when loading weights. This is done by passing the map_location keyword argument to torch.load:"
      ]
    },
    {
      "cell_type": "code",
      "metadata": {
        "id": "sdG6o5SCCzua",
        "outputId": "5e49d946-2c2d-4fc2-eced-e714eb509222",
        "colab": {
          "base_uri": "https://localhost:8080/"
        }
      },
      "source": [
        "# We will have to make sure we don’t change the definition of Net between saving and later loading the model state.\r\n",
        "loaded_model = Net().to(device=device)\r\n",
        "loaded_model.load_state_dict(torch.load(data_path + \"birds_vs_airplanes.pt\", map_location=device))"
      ],
      "execution_count": 40,
      "outputs": [
        {
          "output_type": "execute_result",
          "data": {
            "text/plain": [
              "<All keys matched successfully>"
            ]
          },
          "metadata": {
            "tags": []
          },
          "execution_count": 40
        }
      ]
    },
    {
      "cell_type": "markdown",
      "metadata": {
        "id": "j0BE6ij1EGF2"
      },
      "source": [
        "## Model design"
      ]
    },
    {
      "cell_type": "markdown",
      "metadata": {
        "id": "le9Tu1RfEG9v"
      },
      "source": [
        ""
      ]
    },
    {
      "cell_type": "code",
      "metadata": {
        "id": "abXIy25fD9Oo"
      },
      "source": [
        ""
      ],
      "execution_count": null,
      "outputs": []
    }
  ]
}